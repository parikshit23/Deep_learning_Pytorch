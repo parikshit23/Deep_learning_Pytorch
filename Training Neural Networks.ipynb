{
 "cells": [
  {
   "cell_type": "markdown",
   "metadata": {},
   "source": [
    "## Training Neural Network"
   ]
  },
  {
   "cell_type": "markdown",
   "metadata": {},
   "source": [
    "The network built in the previous code is not trained. It cannot distinguish between digitis. Neural netwroks with non linear functions work like universal function approximators. There is some function which maps your input to the output. For example, images of handwritten digits to class probabilities. The power of Neural networks is that we can train them to approximate this function, and bascially any function given enough data and compute time. \n",
    "\n",
    "<img src =\"function_approx.png\">\n",
    "\n",
    "At first the network is naive, it doesn't know  the function mapping the inputs to the outputs. We train the network by showing it examples of real data, then adjusting the network parameters such that it approximates this function. \n",
    "\n",
    "To find these parameters we need to understand how poorly the network is predicting the real outputs. For this we calculate the loss function(aka cost), a measure of our prediction error. The mean squared loss is often used in regression and binary classification problems as follows:\n",
    "\n",
    "<img src =\"mean_squared_cost.svg\">\n",
    "\n",
    "where $n$ is the number of training examples, $y_i$ are the true labels, and $\\hat{y}_i$ are the predicted labels\n",
    "\n",
    "\n",
    "The aim is to minimise this loss by tweaking the network parameters. We can find configuration where the loss is at a minimum and the network is able to predict the correct labels with high accuracy. This minimum can be found using a process called gradient decent. The gradient is the slope of the loss function and points in the direction of fastest change. To get to the minimum in the least amount of time, we want to follow the gradient(downwards). You can think of this like descending a mountain by following the steepest slope to the base. \n",
    "\n",
    "<img src = \"gradient_descent.png\">\n"
   ]
  },
  {
   "cell_type": "markdown",
   "metadata": {},
   "source": [
    "## Backpropogation"
   ]
  },
  {
   "cell_type": "markdown",
   "metadata": {},
   "source": [
    "For Single layer networks, gradient descent is straightforward to implement but is complicated for deeper multilayer networks. Training multilayer networks is done through backpropogation which is really an application of the chain rule from calculus. It's easy to understand if we convert a two layer network into graph representation as follows:\n",
    "\n",
    "<img src =\"backprop_diagram.png\">\n",
    "\n",
    "In forward pass through the network, our data and operations go from bottom to top in the above diagram. We pass the input $x$ through linear transformation $L1$ with weights $W1$ and biases $b1$. The output then goes through the sigmoid operations $S$ and another linear transformation $L2$. Finally we calculate the loss $l$. We use the loss as a measure of how bad the network's predictions are. The goal then is to adjust the weights and biases to minimize the loss.\n",
    "\n",
    "To train the weights with gradient descent, we propogate the gradient of the loss backwards through the network. Each operation has some gradient between the inputs and outputs. As we send the gradients backwards, we multiply the incoming gradient with the gradient for the operation. Mathematically, we are checking how the gradient of the loss is changing with resspect to the weights. This is done using the chain rule:\n",
    "\n",
    "<img src = \"chain_rule.svg\">\n",
    "\n",
    "We update the weights using this gradient with some learning rate  $\\alpha$. as follows:\n",
    "\n",
    "<img src =\"learning_rate.svg\">\n",
    "\n",
    "The learning rate $\\alpha$ is set such that the weight update steps are small enough that the iterative methode settles at a minimum\n",
    "\n"
   ]
  },
  {
   "cell_type": "markdown",
   "metadata": {},
   "source": [
    "## Losses in PyTorch"
   ]
  },
  {
   "cell_type": "markdown",
   "metadata": {},
   "source": [
    "Through the nn module, PyTorch provides losses such as the corss-entropy loss (nn.CrossEntropyLoss). For a classification problem like MNIST we use the softmax function to predict the class probabilities. Hence we will be using cross-entropy as the loss function. \n",
    "\n",
    "Cross-Entropy : Measures the performance of a classification model whose output is a probability value between 0 and 1. Cross-entropy loss increases as the predicted probability diverges from the actual label. So predicting a probability of 0.012  when the actual observation label is 1, would be bad and result in a high loss value. A perfect model would have a log loss of 0. \n",
    "\n",
    "To calculate the loss, you first define the criterion and then pass in the output of your network and the correct labels. According to the documentation for the nn.CrossEntropyLoss, the criterion combines nn.LogSoftmax() and nn.NLLLoss() in one single class and the input is expected to contain scores for each class. \n",
    "\n",
    "This means we need to pass in the raw output of or network into the loss, not the output of the softmax function. This raw output is usually called the $logit$ or $scores$. We use logits because softmax gives you probabilities which will often be very close to zero or one. But floating-point numbers can't accurately represent values close to zero or one. Hence it is usually best to avoid doing calculations with probabilities, typically we use log-probabilities."
   ]
  },
  {
   "cell_type": "code",
   "execution_count": 2,
   "metadata": {},
   "outputs": [],
   "source": [
    "import torch\n",
    "from torch import nn\n",
    "import torch.nn.functional as F\n",
    "from torchvision import datasets, transforms\n",
    "\n",
    "# Define a transform to normalize the data\n",
    "transform = transforms.Compose([transforms.ToTensor(),\n",
    "                               transforms.Normalize((0.5,),(0.5,)),])\n",
    "\n",
    "# Download and load the training data\n",
    "trainset = datasets.MNIST('~/.pytorch/MNIST_data/', download = True, train = True, transform = transform)\n",
    "trainloader = torch.utils.data.DataLoader(trainset, batch_size=64, shuffle = True)"
   ]
  },
  {
   "cell_type": "code",
   "execution_count": 26,
   "metadata": {},
   "outputs": [
    {
     "name": "stdout",
     "output_type": "stream",
     "text": [
      "tensor(2.3029, grad_fn=<NllLossBackward>)\n"
     ]
    }
   ],
   "source": [
    "# Build a feed-forward network\n",
    "model = nn.Sequential(nn.Linear(784,128),\n",
    "                     nn.ReLU(),\n",
    "                     nn.Linear(128,64),\n",
    "                     nn.ReLU(),\n",
    "                     nn.Linear(64,10),\n",
    "                     nn.Softmax(dim=1))\n",
    "\n",
    "# Define the loss\n",
    "criterion = nn.CrossEntropyLoss()\n",
    "\n",
    "# Get our data\n",
    "images, labels = next(iter(trainloader))\n",
    "# Flatten images\n",
    "images = images.view(images.shape[0],-1)\n",
    "\n",
    "# Forward pass, get our logits\n",
    "logits = model(images)\n",
    "# Calculate the loss with the logits and the labels\n",
    "loss = criterion(logits, labels)\n",
    "\n",
    "\n",
    "print(loss)"
   ]
  },
  {
   "cell_type": "markdown",
   "metadata": {},
   "source": [
    "### Model that returns the log-softmax as the output and calculate the loss using negative log likeliood loss"
   ]
  },
  {
   "cell_type": "code",
   "execution_count": 27,
   "metadata": {},
   "outputs": [
    {
     "name": "stdout",
     "output_type": "stream",
     "text": [
      "tensor(2.3184, grad_fn=<NllLossBackward>)\n"
     ]
    }
   ],
   "source": [
    "# Building a feed forward network\n",
    "\n",
    "model = nn.Sequential(nn.Linear(784,128),\n",
    "                     nn.ReLU(),\n",
    "                     nn.Linear(128,64),\n",
    "                     nn.ReLU(),\n",
    "                     nn.Linear(64,10),\n",
    "                     nn.LogSoftmax(dim=1))\n",
    "# Define the loss\n",
    "criterion = nn.NLLLoss()\n",
    "#Get our data\n",
    "images, labels = next(iter(trainloader))\n",
    "\n",
    "# Flatten the images\n",
    "images = images.view(images.shape[0],-1)\n",
    "\n",
    "# Forward pass, get our log-probabilities\n",
    "logps = model(images)\n",
    "# Calculate loss\n",
    "loss = criterion(logps,labels)\n",
    "print(loss)"
   ]
  },
  {
   "cell_type": "markdown",
   "metadata": {},
   "source": [
    "## Autograd"
   ]
  },
  {
   "cell_type": "markdown",
   "metadata": {},
   "source": [
    "Torch provides a module, autograd, for automatically calculating the gradients of the tensors. We can use it to calculate the gradients of all our parameters with respect to the loss. Autograd works by keeping track of operations performed on tensors, then going backwards through these operations, calculating gradients along the way. To make sure PyTorch keeps track of the operations on a tensor and calculates the gradients, you need to set requires_grad = True on a tensor. You can do this at creation with the requires_grad keyword, or at any time with x.requires_grad_(True).\n",
    "\n",
    "You can turn of gradients for a block of code with the torch.no_grad() content:\n",
    "Also, you can turn on or off gradients altogether with torch.set_grad_enabled(True|False).\n",
    "\n",
    "The gradients are computed with respect to some variable z with z.backward(). This does a backward pass through the operations that created z."
   ]
  },
  {
   "cell_type": "code",
   "execution_count": 5,
   "metadata": {},
   "outputs": [
    {
     "name": "stdout",
     "output_type": "stream",
     "text": [
      "tensor([[ 0.7964, -0.9251],\n",
      "        [ 0.1351,  0.9523]], requires_grad=True)\n"
     ]
    }
   ],
   "source": [
    "x = torch.randn(2,2, requires_grad = True)\n",
    "print(x)"
   ]
  },
  {
   "cell_type": "code",
   "execution_count": 6,
   "metadata": {},
   "outputs": [
    {
     "name": "stdout",
     "output_type": "stream",
     "text": [
      "tensor([[0.6343, 0.8558],\n",
      "        [0.0183, 0.9068]], grad_fn=<PowBackward0>)\n"
     ]
    }
   ],
   "source": [
    "y = x**2\n",
    "print(y)"
   ]
  },
  {
   "cell_type": "markdown",
   "metadata": {},
   "source": [
    "Below we can see the operation that created y, a power operation PowerBackward0"
   ]
  },
  {
   "cell_type": "code",
   "execution_count": 7,
   "metadata": {},
   "outputs": [
    {
     "name": "stdout",
     "output_type": "stream",
     "text": [
      "<PowBackward0 object at 0x7fc39dfffe80>\n"
     ]
    }
   ],
   "source": [
    "# grad_fn shows the function that generated this variable\n",
    "print(y.grad_fn)"
   ]
  },
  {
   "cell_type": "markdown",
   "metadata": {},
   "source": [
    "The autograd module keeps track of these operations and knows how to calculate the gradient for each one. In this way, it's able to calculate the gradients for a chain of opeartions,  with respect to any one tensor. Let's reduce the tensor y to a scalar value, the mean"
   ]
  },
  {
   "cell_type": "code",
   "execution_count": 8,
   "metadata": {},
   "outputs": [
    {
     "name": "stdout",
     "output_type": "stream",
     "text": [
      "tensor(0.6038, grad_fn=<MeanBackward0>)\n"
     ]
    }
   ],
   "source": [
    "z = y.mean()\n",
    "print(z)"
   ]
  },
  {
   "cell_type": "markdown",
   "metadata": {},
   "source": [
    "You can check the gradients for x and y but they are empty currently."
   ]
  },
  {
   "cell_type": "code",
   "execution_count": 9,
   "metadata": {},
   "outputs": [
    {
     "name": "stdout",
     "output_type": "stream",
     "text": [
      "None\n"
     ]
    }
   ],
   "source": [
    "print(x.grad)"
   ]
  },
  {
   "cell_type": "markdown",
   "metadata": {},
   "source": [
    "To calculate the gradients, you need to run the .backward method on a Variable, z for example. This will calculate the gradient for z with respect to x\n",
    "\n",
    "<img src =\"gradient.svg\">"
   ]
  },
  {
   "cell_type": "code",
   "execution_count": 10,
   "metadata": {},
   "outputs": [
    {
     "name": "stdout",
     "output_type": "stream",
     "text": [
      "tensor([[ 0.3982, -0.4626],\n",
      "        [ 0.0676,  0.4761]])\n",
      "tensor([[ 0.3982, -0.4626],\n",
      "        [ 0.0676,  0.4761]], grad_fn=<DivBackward0>)\n"
     ]
    }
   ],
   "source": [
    "z.backward()\n",
    "print(x.grad)\n",
    "print(x/2)"
   ]
  },
  {
   "cell_type": "markdown",
   "metadata": {},
   "source": [
    "These gradients calculations are particularly useful for neural networks. For training we need the gradients of the weights with respect to the cost. With PyTorch, we run data forward through the network to calculate the loss, then, go backwards to calculate the gradients with respect to the loss. Once we have the gradients we can make a gradient descent step."
   ]
  },
  {
   "cell_type": "markdown",
   "metadata": {},
   "source": [
    "### Loss and Autograd"
   ]
  },
  {
   "cell_type": "markdown",
   "metadata": {},
   "source": [
    "When we create a network with PyTorch, all of the parameters are initialized with requires_grad = True. This means that when we calculate the loss and call loss.backward(), the gradients for the parameters are calculated. These gradients are used to update the weights with gradient descent. Below you can see an example of calculating the gradients using a backwards pass."
   ]
  },
  {
   "cell_type": "code",
   "execution_count": 77,
   "metadata": {},
   "outputs": [
    {
     "name": "stdout",
     "output_type": "stream",
     "text": [
      "tensor(2.3316, grad_fn=<NllLossBackward>)\n"
     ]
    }
   ],
   "source": [
    "# Buikd the network\n",
    "model = nn.Sequential(nn.Linear(784,128),\n",
    "                     nn.ReLU(),\n",
    "                     nn.Linear(128,64),\n",
    "                     nn.ReLU(),\n",
    "                     nn.Linear(64,10),\n",
    "                     nn.LogSoftmax(dim=1))\n",
    "\n",
    "criterion = nn.NLLLoss()\n",
    "images, labels = next(iter(trainloader))\n",
    "images = images.view(images.shape[0],-1)\n",
    "\n",
    "logps = model(images)\n",
    "loss = criterion(logps, labels)\n",
    "print(loss)"
   ]
  },
  {
   "cell_type": "code",
   "execution_count": 78,
   "metadata": {},
   "outputs": [
    {
     "name": "stdout",
     "output_type": "stream",
     "text": [
      "Before backward pass: \n",
      " None\n",
      "After backward pass: \n",
      " tensor([[3.0718e-04, 3.0718e-04, 3.0718e-04,  ..., 3.0718e-04, 3.0718e-04,\n",
      "         3.0718e-04],\n",
      "        [1.7950e-03, 1.7950e-03, 1.7950e-03,  ..., 1.7950e-03, 1.7950e-03,\n",
      "         1.7950e-03],\n",
      "        [0.0000e+00, 0.0000e+00, 0.0000e+00,  ..., 0.0000e+00, 0.0000e+00,\n",
      "         0.0000e+00],\n",
      "        ...,\n",
      "        [0.0000e+00, 0.0000e+00, 0.0000e+00,  ..., 0.0000e+00, 0.0000e+00,\n",
      "         0.0000e+00],\n",
      "        [7.9399e-05, 7.9399e-05, 7.9399e-05,  ..., 7.9399e-05, 7.9399e-05,\n",
      "         7.9399e-05],\n",
      "        [2.6005e-03, 2.6005e-03, 2.6005e-03,  ..., 2.6005e-03, 2.6005e-03,\n",
      "         2.6005e-03]])\n"
     ]
    }
   ],
   "source": [
    "print('Before backward pass: \\n', model[0].weight.grad)\n",
    "\n",
    "loss.backward()\n",
    "\n",
    "print('After backward pass: \\n', model[0].weight.grad)"
   ]
  },
  {
   "cell_type": "markdown",
   "metadata": {},
   "source": [
    "###  Training the Network"
   ]
  },
  {
   "cell_type": "markdown",
   "metadata": {},
   "source": [
    "For training, we need an optimizer to update the weights with the gradients. This can be done using the PyTorch's optim package. Below is an example of how stochastic gradient descent is defined using the package."
   ]
  },
  {
   "cell_type": "code",
   "execution_count": 19,
   "metadata": {},
   "outputs": [],
   "source": [
    "from torch import optim\n",
    "\n",
    "#Optimizers require the parameters to optimize the lerning rate\n",
    "optimizer = optim.SGD(model.parameters(), lr = 0.01)"
   ]
  },
  {
   "cell_type": "markdown",
   "metadata": {},
   "source": [
    "Now we know how to use all the individual parts so it's time to see how they work together. Lets consider just one learning step before looping through all the data. The general process with PyTorch is as follows:\n",
    "- Make a forward pass through the network\n",
    "- Use the network output to calculate the loss\n",
    "- Perform a backward pass through the network with loss.backward() to calculate the gradients\n",
    "- Take a step with the optimizer to update the weights\n",
    "\n",
    "Below i'll go through one training step and print out the weights and graients so you can see how it changes. Note that i have a line of code optimizer.zero_grad(). When you do multiple backwards passes with the same parameters, the gradients are accumalated. This means you need to zero the gradients before each pass or you'll retain gradients from previous training batches."
   ]
  },
  {
   "cell_type": "code",
   "execution_count": 20,
   "metadata": {},
   "outputs": [
    {
     "name": "stdout",
     "output_type": "stream",
     "text": [
      "Initial Weights : Parameter containing:\n",
      "tensor([[ 0.0155,  0.0337, -0.0024,  ..., -0.0091,  0.0057,  0.0348],\n",
      "        [ 0.0076, -0.0269, -0.0076,  ..., -0.0010, -0.0083, -0.0353],\n",
      "        [ 0.0201, -0.0120,  0.0255,  ...,  0.0211, -0.0098,  0.0003],\n",
      "        ...,\n",
      "        [-0.0295,  0.0004,  0.0092,  ..., -0.0286, -0.0206, -0.0068],\n",
      "        [ 0.0185,  0.0134, -0.0194,  ..., -0.0300, -0.0073,  0.0343],\n",
      "        [ 0.0219,  0.0351, -0.0252,  ..., -0.0314,  0.0052, -0.0201]],\n",
      "       requires_grad=True)\n",
      "Gradient - tensor([[-2.6142e-03, -2.6142e-03, -2.6142e-03,  ..., -2.6142e-03,\n",
      "         -2.6142e-03, -2.6142e-03],\n",
      "        [-3.7246e-05, -3.7246e-05, -3.7246e-05,  ..., -3.7246e-05,\n",
      "         -3.7246e-05, -3.7246e-05],\n",
      "        [ 1.2361e-03,  1.2361e-03,  1.2361e-03,  ...,  1.2361e-03,\n",
      "          1.2361e-03,  1.2361e-03],\n",
      "        ...,\n",
      "        [-6.9825e-04, -6.9825e-04, -6.9825e-04,  ..., -6.9825e-04,\n",
      "         -6.9825e-04, -6.9825e-04],\n",
      "        [ 4.3856e-04,  4.3856e-04,  4.3856e-04,  ...,  4.3856e-04,\n",
      "          4.3856e-04,  4.3856e-04],\n",
      "        [ 1.8974e-03,  1.8974e-03,  1.8974e-03,  ...,  1.8974e-03,\n",
      "          1.8974e-03,  1.8974e-03]])\n"
     ]
    }
   ],
   "source": [
    "print(\"Initial Weights :\", model[0].weight)\n",
    "\n",
    "images,lables = next(iter(trainloader))\n",
    "images.resize_(64,784)\n",
    "\n",
    "# Clear the gradients, do this because gradients are accumalated\n",
    "optimizer.zero_grad()\n",
    "\n",
    "# Forward pass, then backward pass, then update weights\n",
    "output = model(images)\n",
    "loss = criterion(output, labels)\n",
    "loss.backward()\n",
    "print('Gradient -', model[0].weight.grad)"
   ]
  },
  {
   "cell_type": "code",
   "execution_count": 21,
   "metadata": {},
   "outputs": [
    {
     "name": "stdout",
     "output_type": "stream",
     "text": [
      "Updated weights - Parameter containing:\n",
      "tensor([[ 0.0155,  0.0337, -0.0024,  ..., -0.0090,  0.0057,  0.0348],\n",
      "        [ 0.0076, -0.0269, -0.0076,  ..., -0.0010, -0.0083, -0.0353],\n",
      "        [ 0.0201, -0.0120,  0.0254,  ...,  0.0211, -0.0098,  0.0003],\n",
      "        ...,\n",
      "        [-0.0295,  0.0004,  0.0092,  ..., -0.0286, -0.0205, -0.0068],\n",
      "        [ 0.0185,  0.0134, -0.0194,  ..., -0.0300, -0.0073,  0.0343],\n",
      "        [ 0.0219,  0.0351, -0.0252,  ..., -0.0314,  0.0051, -0.0201]],\n",
      "       requires_grad=True)\n"
     ]
    }
   ],
   "source": [
    "# Take an update step and  few new weights\n",
    "optimizer.step()\n",
    "print('Updated weights -', model[0].weight)"
   ]
  },
  {
   "cell_type": "markdown",
   "metadata": {},
   "source": [
    "### Training for real"
   ]
  },
  {
   "cell_type": "markdown",
   "metadata": {},
   "source": [
    "Now we'll put this algorithm into a loop so we can go through all the images. Some nomenclature, one pass through the entire data set is called an $epoch$. So here we are going to loop over through the trainloader to get our training batches. For each atch we'll be doing a training pass where we calculate the loss, do a backward pass, and update the weights"
   ]
  },
  {
   "cell_type": "code",
   "execution_count": 23,
   "metadata": {},
   "outputs": [
    {
     "name": "stdout",
     "output_type": "stream",
     "text": [
      "Training loss: 1.5612182392240332\n",
      "Training loss: 0.5647211776835832\n",
      "Training loss: 0.4124975564605646\n",
      "Training loss: 0.35884864250225806\n",
      "Training loss: 0.3301449251581611\n"
     ]
    }
   ],
   "source": [
    "model = nn.Sequential(nn.Linear(784,128),\n",
    "                     nn.ReLU(),\n",
    "                     nn.Linear(128,64),\n",
    "                     nn.ReLU(),\n",
    "                     nn.Linear(64,10),\n",
    "                     nn.LogSoftmax(dim = 1))\n",
    "\n",
    "criterion = nn.NLLLoss()\n",
    "optimizer = optim.SGD(model.parameters(), lr = 0.005)\n",
    "\n",
    "epochs = 5\n",
    "\n",
    "for e in range(epochs):\n",
    "    running_loss = 0\n",
    "    for images, labels in trainloader:\n",
    "        #Flatten MNIST images into a 784 long vector\n",
    "        images = images.view(images.shape[0],-1)\n",
    "        \n",
    "        # TODO: training pass\n",
    "        optimizer.zero_grad()\n",
    "        \n",
    "        output = model(images)\n",
    "        loss = criterion(output,labels)\n",
    "        loss.backward()\n",
    "        optimizer.step()\n",
    "        \n",
    "        running_loss += loss.item()\n",
    "    else:\n",
    "        print(f\"Training loss: {running_loss/len(trainloader)}\")"
   ]
  },
  {
   "cell_type": "markdown",
   "metadata": {},
   "source": [
    "With the network trained we can check out its predictions"
   ]
  },
  {
   "cell_type": "code",
   "execution_count": 25,
   "metadata": {},
   "outputs": [
    {
     "data": {
      "image/png": "[encoded data removed]",
      "text/plain": [
       "<Figure size 432x648 with 2 Axes>"
      ]
     },
     "metadata": {
      "needs_background": "light"
     },
     "output_type": "display_data"
    }
   ],
   "source": [
    "%matplotlib inline\n",
    "import helper\n",
    "\n",
    "images, labels = next(iter(trainloader))\n",
    "\n",
    "img = images[0].view(1,784)\n",
    "\n",
    "# Turn off gradients to speed up this part\n",
    "with torch.no_grad():\n",
    "    logps = model(img)\n",
    "    \n",
    "\n",
    "# Output  of the network are log-probabilities, need to take exponential for probabilities\n",
    "ps = torch.exp(logps)\n",
    "helper.view_classify(img.view(1,28,28), ps)"
   ]
  },
  {
   "cell_type": "markdown",
   "metadata": {},
   "source": [
    "Now our network is brilliant. It can actually predict the digits in our images."
   ]
  }
 ],
 "metadata": {
  "kernelspec": {
   "display_name": "Python 3",
   "language": "python",
   "name": "python3"
  },
  "language_info": {
   "codemirror_mode": {
    "name": "ipython",
    "version": 3
   },
   "file_extension": ".py",
   "mimetype": "text/x-python",
   "name": "python",
   "nbconvert_exporter": "python",
   "pygments_lexer": "ipython3",
   "version": "3.7.3"
  }
 },
 "nbformat": 4,
 "nbformat_minor": 2
}
