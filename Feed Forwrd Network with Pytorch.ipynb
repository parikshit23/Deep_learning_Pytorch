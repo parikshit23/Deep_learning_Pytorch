{
 "cells": [
  {
   "cell_type": "markdown",
   "metadata": {},
   "source": [
    "# Feed Forward Network with Pytorch"
   ]
  },
  {
   "cell_type": "markdown",
   "metadata": {},
   "source": [
    "Pytorch has a good Neural Network module to bulid large neural networks"
   ]
  },
  {
   "cell_type": "code",
   "execution_count": 54,
   "metadata": {},
   "outputs": [],
   "source": [
    "# Import necessary packages\n",
    "\n",
    "%matplotlib inline \n",
    "%config InlineBackend.figure_format = 'retina'\n",
    "\n",
    "import numpy as np\n",
    "import torch \n",
    "import helper\n",
    "import matplotlib.pyplot as plt\n"
   ]
  },
  {
   "cell_type": "markdown",
   "metadata": {},
   "source": [
    "We will be using the MNIST data set which contains a large set images of hand written digits. Each digit is greyscale and is 28x28 pixels. The goal is to build a neural network that can take one of the images and predict the digit in this image. \n",
    "\n",
    "We will first download the dataset and split it into training and testing data. "
   ]
  },
  {
   "cell_type": "code",
   "execution_count": 55,
   "metadata": {},
   "outputs": [],
   "source": [
    "from torchvision import datasets, transforms\n",
    "\n",
    "# Define transform to normalize the data.\n",
    "transform = transforms.Compose([transforms.ToTensor(),transforms.Normalize((0.5,),(0.5,)),])\n",
    "\n",
    "# Download and load the training data\n",
    "trainset = datasets.MNIST('~/.pytorch/MNIST_data/', download = True,train = True, transform=transform)\n",
    "trainloader = torch.utils.data.DataLoader(trainset,batch_size = 64,shuffle = True)"
   ]
  },
  {
   "cell_type": "markdown",
   "metadata": {},
   "source": [
    "The above code creates a trainloader. We will now create an iterator with iter( trainloader) for looping over the dataset for training. \n",
    "\n",
    "The trainloader has a batch size of 64. This means that for every iteration we wil get a batch of 64 images.Shuffle= True shuffles the data every time the we start going through the data loader again."
   ]
  },
  {
   "cell_type": "code",
   "execution_count": 83,
   "metadata": {},
   "outputs": [
    {
     "name": "stdout",
     "output_type": "stream",
     "text": [
      "<class 'torch.Tensor'>\n",
      "torch.Size([64, 1, 28, 28])\n",
      "torch.Size([64])\n"
     ]
    }
   ],
   "source": [
    "dataiter = iter(trainloader)\n",
    "images, labels = dataiter.next()\n",
    "print(type(images))\n",
    "print(images.shape)\n",
    "print(labels.shape)"
   ]
  },
  {
   "cell_type": "markdown",
   "metadata": {},
   "source": [
    "This what one of the image looks like. \n",
    "Where 64 is the number of images, \n",
    "1 is the color channel and \n",
    "28x28 is the image size in pixels"
   ]
  },
  {
   "cell_type": "code",
   "execution_count": 86,
   "metadata": {},
   "outputs": [
    {
     "data": {
      "text/plain": [
       "<matplotlib.image.AxesImage at 0x7f0aa5b830f0>"
      ]
     },
     "execution_count": 86,
     "metadata": {},
     "output_type": "execute_result"
    },
    {
     "data": {
      "image/png": "[encoded data removed]",
      "text/plain": [
       "<Figure size 432x288 with 1 Axes>"
      ]
     },
     "metadata": {
      "image/png": {
       "height": 250,
       "width": 253
      },
      "needs_background": "light"
     },
     "output_type": "display_data"
    }
   ],
   "source": [
    "plt.imshow(images[4].numpy().squeeze(), cmap = 'Greys_r')"
   ]
  },
  {
   "cell_type": "markdown",
   "metadata": {},
   "source": [
    "## Simple network using matrix multiplication"
   ]
  },
  {
   "cell_type": "markdown",
   "metadata": {},
   "source": [
    "First we will build a simple network using matrix multiplication.\n",
    "The networks we have seen so far are fully connected networks where each unit of one layer is connected to all the units of the next layer. In fully-connected networks, the input to each layer must be a one-dimensional vector (which can be stacked into a 2D tensor as a batch of multiple examples). however our images are 28x28 2d tensors, so we need to convert them into a 1D vector. We need to convert the batch of images with shape (64,1,28,28) to have a shape of (64, 784). 784 is 28 times 28. Typically this conversion is called flattening. We flattened 2D image into 1D vectors.\n",
    "\n",
    "Following is a representation of how flattening of an image is done :\n",
    "\n",
    "a 3 pixel x 3 pixel image is falttened as follows:\n",
    "\n",
    "<img src=\"image_flatten.png\"> \n",
    "\n",
    "\n",
    "In this network we need 10 output units as we are trying to predict 10 different digits. We want our network to predict the digit shown in an image, so what we'll do is calculate probabilities that the image is of any one digit or class. This ends up being a discrete probability distribution over the classes that tells us the most likely class for the image. Hence we need 10 output units for 10 classes(digits)"
   ]
  },
  {
   "cell_type": "code",
   "execution_count": 58,
   "metadata": {},
   "outputs": [],
   "source": [
    "def activation(x):\n",
    "    return 1/(1+torch.exp(-x))\n",
    "# Flatten the input images\n",
    "inputs = images.view(images.shape[0],-1)\n",
    "\n",
    "# Create parameters\n",
    "w1 = torch.randn((784,256))\n",
    "b1 = torch.randn(256)\n",
    "\n",
    "w2 = torch.randn(256,10)\n",
    "b2 = torch.randn(10)\n",
    "\n",
    "h = activation(torch.mm(inputs,w1)+b1) \n",
    "\n",
    "out = torch.mm(h,w2) +b2"
   ]
  },
  {
   "cell_type": "markdown",
   "metadata": {},
   "source": [
    "Now we have 10 output of our network. We want to pass in an image to our network and get out a probability distribution over the classes that tells us the likely classes the image belongs to. \n",
    "\n",
    "Since right now the network is not trained, the probability for each class is roughly the same. \n",
    "To calculate the proability distibution, we will use softmax function.\n",
    "The softmax funtion looks as follows:\n",
    "<img src = 'softmax.svg'>\n",
    "The softmax function will squish eah input Xi between 0 and 1 and normalize the values to give a propper distribution where the probabilities sum up to one."
   ]
  },
  {
   "cell_type": "code",
   "execution_count": 59,
   "metadata": {},
   "outputs": [
    {
     "name": "stdout",
     "output_type": "stream",
     "text": [
      "torch.Size([64, 10])\n",
      "tensor([1.0000, 1.0000, 1.0000, 1.0000, 1.0000, 1.0000, 1.0000, 1.0000, 1.0000,\n",
      "        1.0000, 1.0000, 1.0000, 1.0000, 1.0000, 1.0000, 1.0000, 1.0000, 1.0000,\n",
      "        1.0000, 1.0000, 1.0000, 1.0000, 1.0000, 1.0000, 1.0000, 1.0000, 1.0000,\n",
      "        1.0000, 1.0000, 1.0000, 1.0000, 1.0000, 1.0000, 1.0000, 1.0000, 1.0000,\n",
      "        1.0000, 1.0000, 1.0000, 1.0000, 1.0000, 1.0000, 1.0000, 1.0000, 1.0000,\n",
      "        1.0000, 1.0000, 1.0000, 1.0000, 1.0000, 1.0000, 1.0000, 1.0000, 1.0000,\n",
      "        1.0000, 1.0000, 1.0000, 1.0000, 1.0000, 1.0000, 1.0000, 1.0000, 1.0000,\n",
      "        1.0000])\n"
     ]
    }
   ],
   "source": [
    "# Solution\n",
    "def softmax(x):\n",
    "    return torch.exp(x)/torch.sum(torch.exp(x), dim = 1).view(-1,1)\n",
    "\n",
    "probabilities  = softmax(out)\n",
    "\n",
    "#Does it have the right shape? Should be (64,10)\n",
    "print(probabilities.shape)\n",
    "# Does it sum to 1?\n",
    "print(probabilities.sum(dim=1))"
   ]
  },
  {
   "cell_type": "markdown",
   "metadata": {},
   "source": [
    "## Building networks with pytorch"
   ]
  },
  {
   "cell_type": "markdown",
   "metadata": {},
   "source": [
    "PyTorch provides a module nn that makes building networks much simpler. Here i'll show you how to build the same one as above with 784 inputs,256 hidden units, 10 output units and a softmax output. "
   ]
  },
  {
   "cell_type": "code",
   "execution_count": 60,
   "metadata": {},
   "outputs": [],
   "source": [
    "from torch import nn"
   ]
  },
  {
   "cell_type": "code",
   "execution_count": 61,
   "metadata": {},
   "outputs": [],
   "source": [
    "class Network(nn.Module):\n",
    "    def __init__(self):\n",
    "        super().__init__()\n",
    "        \n",
    "        # inputs to the hidden layer\n",
    "        self.hidden = nn.Linear(784,256)\n",
    "        # output layer, 10 units - one for each digit\n",
    "        self.output = nn.Linear(256,10)\n",
    "        \n",
    "        # Define sigmoid activation and softmax Output        \n",
    "        self.sigmoid = nn.Sigmoid()\n",
    "        self.softmax = nn.Softmax(dim=1)\n",
    "        \n",
    "    def forward(slef,x):\n",
    "        # Pass input tensor through each of our operations\n",
    "        x= self.hidden(x)\n",
    "        x= self.sigmoid(x)\n",
    "        x= self.softmax(x)\n",
    "        x= self.output(x)\n",
    "        x= self.softmax(x)\n",
    "        \n",
    "        return(x)"
   ]
  },
  {
   "cell_type": "markdown",
   "metadata": {},
   "source": [
    "Lets go through the above code bit by bit.\n",
    "\n",
    " class Network(nn.module):\n",
    " \n",
    "Here we are inheriting from nn.module. Combined with super().__init__() this creates a class that tracks the architecture and provides a lot of useful methods and attributes. It is mandatory to inherit from nn.Module when you are creating a class for your network. The name of the class itself can be anything. \n",
    "\n",
    "    self.hidden = nn.Linear(784,256) \n",
    "\n",
    "This line creates a linear transformation, xW+b with 784 inputs and 256 outputs and assigns it to self.hidden. The module automatically creates weights and bias which are used in the forward method.The weight and bias tensors can be accessed once the network(net) is trained with net.hidden.weight. and net.hidden.bias\n",
    "\n",
    "    self.output = nn.Linear(256,10)\n",
    "    \n",
    "Similarly creates another linear transformation with 256 inputs and 10 outputs\n",
    "\n",
    "\n",
    "    self.sigmoid = nn.Sigmoid()\n",
    "    self.softmax = nn.Softmax(dim=1)\n",
    "    \n",
    "Here the operations for sigmoid activation function and Softmax output have been defined.  Setting dim = 1 in nn.Softmax(dim=1) calculates softmax across columns. \n",
    "\n",
    "    def forward(self,x):\n",
    "    \n",
    "PyTorch networks  created with nn.Module must have a forward method defined. It takes tensor x and passes it through the operations defined in the __init__ method. \n",
    "\n",
    "       x = self.hidden(x)\n",
    "       x = self.sigmoid(x)\n",
    "       x = self.output(x)\n",
    "       x = self.softmax(x) \n",
    "\n",
    "Here the input tensor x is passed through each operation and reassigned to x. We can see that the input tensor goes through the hidden layer followed by sigmoid,outpu and softmax. It doesnt matter what names you give here as long as the inputs and outputs of the operations match the network architecture  you want to build. The order in which you define things in the __init__ method doesn't matter, but you'll need  to sequence the operations correctly in the forward method. \n",
    "\n",
    "Now we create a network object. \n",
    " "
   ]
  },
  {
   "cell_type": "code",
   "execution_count": 62,
   "metadata": {},
   "outputs": [
    {
     "data": {
      "text/plain": [
       "Network(\n",
       "  (hidden): Linear(in_features=784, out_features=256, bias=True)\n",
       "  (output): Linear(in_features=256, out_features=10, bias=True)\n",
       "  (sigmoid): Sigmoid()\n",
       "  (softmax): Softmax(dim=1)\n",
       ")"
      ]
     },
     "execution_count": 62,
     "metadata": {},
     "output_type": "execute_result"
    }
   ],
   "source": [
    "# create the network and look at its representation \n",
    "model = Network()\n",
    "model"
   ]
  },
  {
   "cell_type": "markdown",
   "metadata": {},
   "source": [
    "The above network representation can be better defined using torch.nn.functional module. This is the most common way you'll see networks defined as many operations are simple and element-wise functions. We normally import this module as F,import torch.nn.Functional as F."
   ]
  },
  {
   "cell_type": "code",
   "execution_count": 63,
   "metadata": {},
   "outputs": [],
   "source": [
    "import torch.nn.functional as F\n",
    "\n",
    "class Network(nn.Module):\n",
    "    def __init__(self):\n",
    "        super().__init__()\n",
    "        # Inputs to hidden layer linear transformation\n",
    "        self.hidden = nn.Linear(784,256)\n",
    "        # Output layer, 10 units - one for each digit.\n",
    "        self.output = nn.Linear(256,10)\n",
    "        \n",
    "    def forward(self,x):\n",
    "        # Hidden layer with sigmoid activation\n",
    "        x = F.sigmoid(self.hidden(x))\n",
    "        # Output layer with softmax activation \n",
    "        x = F.softmax(self.output(x), dim = 1)\n",
    "        \n",
    "        return(x)"
   ]
  },
  {
   "cell_type": "markdown",
   "metadata": {},
   "source": [
    "## Activation functions "
   ]
  },
  {
   "cell_type": "markdown",
   "metadata": {},
   "source": [
    "So far we have been looking at the sigoid activation function, but in general any function can be used  as an activation function. The only requirement is that for a network to approximate a non linear function. A few widely used examples for activation functions are 1) tanH (hyperbolic tangent) and ReLU (rectified linear unit).\n",
    "\n",
    "In practice the ReLU activation is used almost exclusively as the activation function for hidden layers. "
   ]
  },
  {
   "cell_type": "markdown",
   "metadata": {},
   "source": [
    "## Example of network with ReLU activation"
   ]
  },
  {
   "cell_type": "code",
   "execution_count": 80,
   "metadata": {},
   "outputs": [],
   "source": [
    "class Network(nn.Module):\n",
    "    def __init__(self):\n",
    "        super().__init__()\n",
    "        # Defining the layers, 128, 64, 10 units each\n",
    "        self.fc1 = nn.Linear(784, 128)\n",
    "        self.fc2 = nn.Linear(128, 64)\n",
    "        # Output layer, 10 units - one for each digit\n",
    "        self.fc3 = nn.Linear(64, 10)\n",
    "        \n",
    "    def forward(self, x):\n",
    "        ''' Forward pass through the network, returns the output logits '''\n",
    "        \n",
    "        x = self.fc1(x)\n",
    "        x = F.relu(x)\n",
    "        x = self.fc2(x)\n",
    "        x = F.relu(x)\n",
    "        x = self.fc3(x)\n",
    "        x = F.softmax(x, dim=1)\n",
    "        \n",
    "        return x"
   ]
  },
  {
   "cell_type": "code",
   "execution_count": 65,
   "metadata": {},
   "outputs": [
    {
     "data": {
      "text/plain": [
       "Network(\n",
       "  (fc1): Linear(in_features=784, out_features=128, bias=True)\n",
       "  (fc2): Linear(in_features=128, out_features=64, bias=True)\n",
       "  (fc3): Linear(in_features=64, out_features=10, bias=True)\n",
       ")"
      ]
     },
     "execution_count": 65,
     "metadata": {},
     "output_type": "execute_result"
    }
   ],
   "source": [
    "model = Network()\n",
    "model"
   ]
  },
  {
   "cell_type": "markdown",
   "metadata": {},
   "source": [
    "###  Initializing weights and biases"
   ]
  },
  {
   "cell_type": "markdown",
   "metadata": {},
   "source": [
    "The weights and biases are initialized automatically. Buts its possible to customize how they are initialized. The weights and biases are tensors attached to the layer you defined and can be accessed with model.fc1.weight for instance. "
   ]
  },
  {
   "cell_type": "code",
   "execution_count": 66,
   "metadata": {},
   "outputs": [
    {
     "name": "stdout",
     "output_type": "stream",
     "text": [
      "Parameter containing:\n",
      "tensor([[ 0.0085,  0.0077, -0.0279,  ...,  0.0245, -0.0024, -0.0220],\n",
      "        [ 0.0344,  0.0160,  0.0032,  ..., -0.0017,  0.0092, -0.0131],\n",
      "        [-0.0318, -0.0020, -0.0088,  ..., -0.0116,  0.0206, -0.0260],\n",
      "        ...,\n",
      "        [-0.0237,  0.0253, -0.0007,  ..., -0.0249,  0.0331,  0.0224],\n",
      "        [-0.0134,  0.0315,  0.0036,  ..., -0.0086,  0.0251,  0.0155],\n",
      "        [ 0.0208,  0.0111,  0.0091,  ...,  0.0109, -0.0019,  0.0072]],\n",
      "       requires_grad=True)\n",
      "Parameter containing:\n",
      "tensor([ 4.1830e-03,  3.5203e-02,  3.2265e-02,  3.0018e-02,  3.1025e-02,\n",
      "         2.9159e-02, -1.5200e-02, -2.1466e-02, -1.8370e-02, -7.4689e-03,\n",
      "        -1.7414e-02, -1.0613e-02,  2.8992e-02,  2.9126e-02,  3.2692e-02,\n",
      "        -3.5253e-02,  2.1608e-02,  2.9186e-02, -2.0895e-02,  2.3465e-02,\n",
      "         2.9896e-02, -1.8389e-02,  1.5097e-02,  1.4773e-02,  2.2066e-02,\n",
      "         3.2087e-02, -1.0866e-02, -3.0861e-02,  1.6471e-02,  9.5798e-03,\n",
      "        -1.1943e-03,  1.0744e-02, -2.4249e-02,  1.6509e-02,  2.7964e-02,\n",
      "        -5.5633e-03,  1.0294e-02,  2.4582e-02,  1.2668e-02,  2.0482e-02,\n",
      "         2.1403e-02,  7.5876e-03, -4.3245e-04,  2.4931e-02, -1.7406e-02,\n",
      "         2.4733e-02, -7.6415e-03, -1.7241e-03, -3.3153e-02, -3.1457e-02,\n",
      "         2.7075e-02, -2.7011e-02, -3.5330e-02, -1.9236e-02, -2.2842e-02,\n",
      "        -2.1238e-02,  2.6662e-02, -2.6906e-02,  7.1548e-03, -3.6510e-03,\n",
      "         8.8181e-03,  1.2583e-02,  3.3891e-02, -8.2332e-04,  2.8498e-02,\n",
      "         3.6994e-03,  8.5695e-03, -3.0425e-02, -3.5018e-02, -6.9999e-04,\n",
      "         5.2573e-03,  1.2425e-02, -1.9335e-02,  1.5707e-02, -3.5366e-02,\n",
      "         1.1880e-02,  2.1941e-02,  5.7570e-03,  2.2287e-02,  1.0225e-02,\n",
      "         3.4836e-02, -7.1906e-05, -2.4852e-02, -2.6171e-03,  6.2317e-05,\n",
      "         2.7067e-02, -2.8518e-02,  1.3868e-02, -3.3272e-02,  2.9258e-03,\n",
      "         1.4388e-02, -2.7712e-02, -1.0608e-02,  2.9743e-02,  1.5210e-02,\n",
      "         2.9082e-02, -1.8514e-02, -2.6845e-02,  1.5535e-02,  2.0890e-03,\n",
      "         8.9246e-03, -1.2144e-02,  3.5040e-02,  1.6812e-02, -3.3598e-02,\n",
      "        -2.9339e-02, -2.4639e-02,  1.6746e-02, -3.3645e-02, -2.0104e-02,\n",
      "        -3.3344e-02,  2.1641e-02, -2.9228e-02, -1.2242e-02, -1.2737e-02,\n",
      "         2.7095e-02, -1.1793e-02,  9.3539e-03, -3.1809e-02, -6.1654e-03,\n",
      "         6.1462e-03,  1.0614e-02, -2.6503e-02, -1.5382e-03, -2.8006e-02,\n",
      "        -2.5762e-02,  2.1090e-02, -2.7323e-02], requires_grad=True)\n"
     ]
    }
   ],
   "source": [
    "print(model.fc1.weight)\n",
    "print(model.fc1.bias)"
   ]
  },
  {
   "cell_type": "markdown",
   "metadata": {},
   "source": [
    "For custom initialization, we want to modify these tensors in place. These are actually autograde variables, so we need to get back the actual tensors withe model.fc1.weight.data. Once we have the tensors, we can fill them up with zeros (for biases)  or random normal values. "
   ]
  },
  {
   "cell_type": "code",
   "execution_count": 67,
   "metadata": {},
   "outputs": [
    {
     "data": {
      "text/plain": [
       "tensor([0., 0., 0., 0., 0., 0., 0., 0., 0., 0., 0., 0., 0., 0., 0., 0., 0., 0., 0., 0., 0., 0., 0., 0.,\n",
       "        0., 0., 0., 0., 0., 0., 0., 0., 0., 0., 0., 0., 0., 0., 0., 0., 0., 0., 0., 0., 0., 0., 0., 0.,\n",
       "        0., 0., 0., 0., 0., 0., 0., 0., 0., 0., 0., 0., 0., 0., 0., 0., 0., 0., 0., 0., 0., 0., 0., 0.,\n",
       "        0., 0., 0., 0., 0., 0., 0., 0., 0., 0., 0., 0., 0., 0., 0., 0., 0., 0., 0., 0., 0., 0., 0., 0.,\n",
       "        0., 0., 0., 0., 0., 0., 0., 0., 0., 0., 0., 0., 0., 0., 0., 0., 0., 0., 0., 0., 0., 0., 0., 0.,\n",
       "        0., 0., 0., 0., 0., 0., 0., 0.])"
      ]
     },
     "execution_count": 67,
     "metadata": {},
     "output_type": "execute_result"
    }
   ],
   "source": [
    "# Set biases to all zeros\n",
    "model.fc1.bias.data.fill_(0)"
   ]
  },
  {
   "cell_type": "code",
   "execution_count": 68,
   "metadata": {},
   "outputs": [
    {
     "data": {
      "text/plain": [
       "tensor([[-0.0038,  0.0049,  0.0070,  ...,  0.0005, -0.0080,  0.0026],\n",
       "        [-0.0084, -0.0145, -0.0138,  ..., -0.0030,  0.0021,  0.0148],\n",
       "        [ 0.0043,  0.0130,  0.0062,  ...,  0.0070,  0.0188,  0.0063],\n",
       "        ...,\n",
       "        [ 0.0090, -0.0124,  0.0052,  ...,  0.0147,  0.0116, -0.0054],\n",
       "        [ 0.0111, -0.0118,  0.0203,  ...,  0.0131,  0.0057,  0.0058],\n",
       "        [-0.0016, -0.0057, -0.0060,  ..., -0.0008, -0.0079,  0.0162]])"
      ]
     },
     "execution_count": 68,
     "metadata": {},
     "output_type": "execute_result"
    }
   ],
   "source": [
    "# sample from random normal with standard dev = 0.01\n",
    "model.fc1.weight.data.normal_(std=0.01)"
   ]
  },
  {
   "cell_type": "markdown",
   "metadata": {},
   "source": [
    "### Forward Pass"
   ]
  },
  {
   "cell_type": "markdown",
   "metadata": {},
   "source": [
    "Now that we have a network, let's see what happens when we pass an image."
   ]
  },
  {
   "cell_type": "code",
   "execution_count": 69,
   "metadata": {},
   "outputs": [],
   "source": [
    "def view_classify(img, ps, version=\"MNIST\"):\n",
    "    ''' Function for viewing an image and it's predicted classes.\n",
    "    '''\n",
    "    ps = ps.data.numpy().squeeze()\n",
    "\n",
    "    fig, (ax1, ax2) = plt.subplots(figsize=(6,9), ncols=2)\n",
    "    ax1.imshow(img.resize_(1, 28, 28).numpy().squeeze())\n",
    "    ax1.axis('off')\n",
    "    ax2.barh(np.arange(10), ps)\n",
    "    ax2.set_aspect(0.1)\n",
    "    ax2.set_yticks(np.arange(10))\n",
    "    if version == \"MNIST\":\n",
    "        ax2.set_yticklabels(np.arange(10))\n",
    "    elif version == \"Fashion\":\n",
    "        ax2.set_yticklabels(['T-shirt/top',\n",
    "                            'Trouser',\n",
    "                            'Pullover',\n",
    "                            'Dress',\n",
    "                            'Coat',\n",
    "                            'Sandal',\n",
    "                            'Shirt',\n",
    "                            'Sneaker',\n",
    "                            'Bag',\n",
    "                            'Ankle Boot'], size='small');\n",
    "    ax2.set_title('Class Probability')\n",
    "    ax2.set_xlim(0, 1.1)\n",
    "\n",
    "    plt.tight_layout()"
   ]
  },
  {
   "cell_type": "code",
   "execution_count": 70,
   "metadata": {},
   "outputs": [
    {
     "data": {
      "image/png": "[encoded data removed]",
      "text/plain": [
       "<Figure size 432x648 with 2 Axes>"
      ]
     },
     "metadata": {
      "image/png": {
       "height": 226,
       "width": 423
      },
      "needs_background": "light"
     },
     "output_type": "display_data"
    }
   ],
   "source": [
    "# Grab some data\n",
    "dataiter = iter(trainloader)\n",
    "images, labels = dataiter.next()\n",
    "\n",
    "# Resize images into a 1D vector, new shape is (batch size, color channels, image pixels)\n",
    "images.resize_(64,1,784)\n",
    "\n",
    "# Forward pass through the network\n",
    "img_idx = 0\n",
    "ps = model.forward(images[img_idx,:1])\n",
    "\n",
    "img = images[img_idx]\n",
    "view_classify(img.view(1, 28, 28), ps)\n",
    "\n",
    "\n"
   ]
  },
  {
   "cell_type": "markdown",
   "metadata": {},
   "source": [
    "As you can see above, our network as no idea what the digit is. It's because we have not trained it yeat and all the weights are random"
   ]
  },
  {
   "cell_type": "markdown",
   "metadata": {},
   "source": [
    "### Using nn.Sequential"
   ]
  },
  {
   "cell_type": "markdown",
   "metadata": {},
   "source": [
    "PyTorch provides a convenient way to build networks like this where a tensor is passed sequentially  through operations, nn.Sequential. Using this to build a netwrok:"
   ]
  },
  {
   "cell_type": "code",
   "execution_count": 73,
   "metadata": {},
   "outputs": [
    {
     "name": "stdout",
     "output_type": "stream",
     "text": [
      "Sequential(\n",
      "  (0): Linear(in_features=784, out_features=128, bias=True)\n",
      "  (1): ReLU()\n",
      "  (2): Linear(in_features=128, out_features=64, bias=True)\n",
      "  (3): ReLU()\n",
      "  (4): Linear(in_features=64, out_features=10, bias=True)\n",
      "  (5): Softmax(dim=1)\n",
      ")\n"
     ]
    },
    {
     "data": {
      "image/png": "[encoded data removed]",
      "text/plain": [
       "<Figure size 432x648 with 2 Axes>"
      ]
     },
     "metadata": {
      "image/png": {
       "height": 226,
       "width": 423
      },
      "needs_background": "light"
     },
     "output_type": "display_data"
    }
   ],
   "source": [
    "# HyperParameters for our netwrok:\n",
    "input_size = 784\n",
    "hidden_sizes = [128,64]\n",
    "output_size = 10\n",
    "\n",
    "\n",
    "# Build a feed forward netwrok\n",
    "model = nn.Sequential(nn.Linear(input_size, hidden_sizes[0]),\n",
    "                      nn.ReLU(),\n",
    "                      nn.Linear(hidden_sizes[0], hidden_sizes[1]),\n",
    "                      nn.ReLU(),\n",
    "                      nn.Linear(hidden_sizes[1], output_size),\n",
    "                      nn.Softmax(dim=1))\n",
    "print(model)\n",
    "\n",
    "# Forward pass through the network and display output\n",
    "\n",
    "images, labels = next(iter(trainloader))\n",
    "images.resize_(images.shape[0],1,784) \n",
    "ps = model.forward(images[0,:])\n",
    "view_classify(images[0].view(1,28,28),ps)\n"
   ]
  },
  {
   "cell_type": "markdown",
   "metadata": {},
   "source": [
    "The operations are available by passing in the appropriate index. For example, if you want to get first Linear operation and look at the weights, you'd use model[0]"
   ]
  },
  {
   "cell_type": "code",
   "execution_count": 75,
   "metadata": {},
   "outputs": [
    {
     "name": "stdout",
     "output_type": "stream",
     "text": [
      "Linear(in_features=784, out_features=128, bias=True)\n"
     ]
    },
    {
     "data": {
      "text/plain": [
       "Parameter containing:\n",
       "tensor([[-0.0229, -0.0127,  0.0111,  ...,  0.0122, -0.0159, -0.0011],\n",
       "        [ 0.0234, -0.0121,  0.0108,  ...,  0.0159,  0.0269, -0.0149],\n",
       "        [-0.0047,  0.0291, -0.0154,  ..., -0.0130, -0.0297,  0.0006],\n",
       "        ...,\n",
       "        [ 0.0290, -0.0140, -0.0253,  ...,  0.0277, -0.0144,  0.0114],\n",
       "        [-0.0266,  0.0322, -0.0168,  ...,  0.0125,  0.0192, -0.0017],\n",
       "        [-0.0119, -0.0015, -0.0240,  ..., -0.0142, -0.0180, -0.0047]],\n",
       "       requires_grad=True)"
      ]
     },
     "execution_count": 75,
     "metadata": {},
     "output_type": "execute_result"
    }
   ],
   "source": [
    "print(model[0])\n",
    "model[0].weight"
   ]
  },
  {
   "cell_type": "markdown",
   "metadata": {},
   "source": [
    "An OrderedDict can also be created to name the individual layers and operations, instead of using inremental integers. Note that dictionary keys must be unique, so each operation must have a different name. "
   ]
  },
  {
   "cell_type": "code",
   "execution_count": 76,
   "metadata": {},
   "outputs": [
    {
     "data": {
      "text/plain": [
       "Sequential(\n",
       "  (fc1): Linear(in_features=784, out_features=128, bias=True)\n",
       "  (fc2): ReLU()\n",
       "  (fc3): Linear(in_features=128, out_features=64, bias=True)\n",
       "  (fc4): ReLU()\n",
       "  (fc5): Linear(in_features=64, out_features=10, bias=True)\n",
       "  (fc6): Softmax(dim=1)\n",
       ")"
      ]
     },
     "execution_count": 76,
     "metadata": {},
     "output_type": "execute_result"
    }
   ],
   "source": [
    "from collections import OrderedDict\n",
    "model = nn.Sequential(OrderedDict([\n",
    "                        ('fc1',nn.Linear(input_size, hidden_sizes[0])),\n",
    "                        ('fc2', nn.ReLU()),\n",
    "                        ('fc3', nn.Linear(hidden_sizes[0],hidden_sizes[1])),\n",
    "                        ('fc4', nn.ReLU()),\n",
    "                        ('fc5', nn.Linear(hidden_sizes[1],output_size)),\n",
    "                        ('fc6', nn.Softmax(dim=1))]))\n",
    "model"
   ]
  },
  {
   "cell_type": "markdown",
   "metadata": {},
   "source": [
    "Now you can access layers by integers or names"
   ]
  },
  {
   "cell_type": "code",
   "execution_count": 77,
   "metadata": {},
   "outputs": [
    {
     "name": "stdout",
     "output_type": "stream",
     "text": [
      "Linear(in_features=784, out_features=128, bias=True)\n"
     ]
    }
   ],
   "source": [
    "print(model[0])"
   ]
  },
  {
   "cell_type": "code",
   "execution_count": 79,
   "metadata": {},
   "outputs": [
    {
     "name": "stdout",
     "output_type": "stream",
     "text": [
      "Linear(in_features=784, out_features=128, bias=True)\n"
     ]
    }
   ],
   "source": [
    "print(model.fc1)"
   ]
  }
 ],
 "metadata": {
  "kernelspec": {
   "display_name": "Python 3",
   "language": "python",
   "name": "python3"
  },
  "language_info": {
   "codemirror_mode": {
    "name": "ipython",
    "version": 3
   },
   "file_extension": ".py",
   "mimetype": "text/x-python",
   "name": "python",
   "nbconvert_exporter": "python",
   "pygments_lexer": "ipython3",
   "version": "3.7.3"
  }
 },
 "nbformat": 4,
 "nbformat_minor": 2
}
